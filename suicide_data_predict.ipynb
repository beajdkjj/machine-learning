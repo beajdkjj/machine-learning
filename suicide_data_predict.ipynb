{
  "nbformat": 4,
  "nbformat_minor": 0,
  "metadata": {
    "colab": {
      "provenance": [],
      "authorship_tag": "ABX9TyOglQe8WLKwQgT2bTi4Bi1k",
      "include_colab_link": true
    },
    "kernelspec": {
      "name": "python3",
      "display_name": "Python 3"
    },
    "language_info": {
      "name": "python"
    }
  },
  "cells": [
    {
      "cell_type": "markdown",
      "metadata": {
        "id": "view-in-github",
        "colab_type": "text"
      },
      "source": [
        "<a href=\"https://colab.research.google.com/github/beajdkjj/oms-data/blob/main/suicide_data_predict.ipynb\" target=\"_parent\"><img src=\"https://colab.research.google.com/assets/colab-badge.svg\" alt=\"Open In Colab\"/></a>"
      ]
    },
    {
      "cell_type": "code",
      "execution_count": null,
      "metadata": {
        "id": "XNtoF-Q7ejRQ",
        "colab": {
          "base_uri": "https://localhost:8080/"
        },
        "outputId": "57608bd0-fa4f-4802-c523-e7ea1aaada64"
      },
      "outputs": [
        {
          "output_type": "stream",
          "name": "stdout",
          "text": [
            "Region Name                                                 object\n",
            "Country Name                                                object\n",
            "Year                                                         int64\n",
            "Sex                                                         object\n",
            "0 Year                                                     float64\n",
            "1-4 Years                                                  float64\n",
            "5-9 Years                                                  float64\n",
            "10-14 Years                                                float64\n",
            "15-19 Years                                                float64\n",
            "20-24 Years                                                float64\n",
            "25-29 Years                                                float64\n",
            "30-34 Years                                                float64\n",
            "35-39 Years                                                float64\n",
            "40-44 Years                                                float64\n",
            "45-49 Years                                                float64\n",
            "50-54 Years                                                float64\n",
            "55-59 Years                                                float64\n",
            "60-64 Years                                                float64\n",
            "65-69 Years                                                float64\n",
            "70-74 Years                                                float64\n",
            "75-79 Years                                                float64\n",
            "80-84 Years                                                float64\n",
            "85+ Years                                                  float64\n",
            "Unknown Age                                                float64\n",
            "No of Suicides                                             float64\n",
            "Percentage of cause-specific deaths out of total deaths    float64\n",
            "Death rate per 100 000 population                          float64\n",
            "dtype: object\n"
          ]
        }
      ],
      "source": [
        "import kagglehub\n",
        "import pandas as pd\n",
        "\n",
        "path = kagglehub.dataset_download(\"kumaranand05/who-suicide-data-1950-2021\")\n",
        "df = pd.read_csv(path+'/combined_processed_data.csv', sep = ',')\n",
        "print(df.dtypes)"
      ]
    },
    {
      "cell_type": "code",
      "source": [
        "#Removendo idades\n",
        "df = df.drop(columns=['Sex', '0 Year', '1-4 Years', '5-9 Years', '10-14 Years', '15-19 Years', '20-24 Years', '25-29 Years', '30-34 Years', '30-34 Years', '35-39 Years', '40-44 Years', '45-49 Years', '50-54 Years','55-59 Years', '60-64 Years', '65-69 Years', '70-74 Years', '75-79 Years', '80-84 Years','85+ Years', 'Unknown Age'])"
      ],
      "metadata": {
        "id": "p--9v4y4xtQB"
      },
      "execution_count": null,
      "outputs": []
    },
    {
      "cell_type": "code",
      "source": [
        "#tratamento dos dados\n",
        "df['Year'] = df['Year'].astype(int)\n",
        "df.columns = df.columns.str.lower().str.replace(' ', '_')\n",
        "df = df.drop_duplicates()"
      ],
      "metadata": {
        "id": "355wMUGY0y4F"
      },
      "execution_count": null,
      "outputs": []
    },
    {
      "cell_type": "code",
      "source": [],
      "metadata": {
        "id": "jJ8i3cUi1I87"
      },
      "execution_count": null,
      "outputs": []
    },
    {
      "cell_type": "code",
      "source": [],
      "metadata": {
        "id": "u41gcDMWyVNs"
      },
      "execution_count": null,
      "outputs": []
    },
    {
      "cell_type": "code",
      "source": [],
      "metadata": {
        "id": "G40j5ODIrbCW"
      },
      "execution_count": null,
      "outputs": []
    }
  ]
}